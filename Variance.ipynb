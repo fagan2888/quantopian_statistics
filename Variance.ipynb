{
 "cells": [
  {
   "cell_type": "code",
   "execution_count": 1,
   "metadata": {},
   "outputs": [],
   "source": [
    "import pandas as pd\n",
    "import numpy as np\n",
    "import matplotlib.pyplot as plt"
   ]
  },
  {
   "cell_type": "code",
   "execution_count": 2,
   "metadata": {},
   "outputs": [],
   "source": [
    "X = np.random.randint(100, size = 100)"
   ]
  },
  {
   "cell_type": "code",
   "execution_count": 3,
   "metadata": {},
   "outputs": [
    {
     "name": "stdout",
     "output_type": "stream",
     "text": [
      "Variance of X: 1018.4859\n",
      "Standard deviation of X: 31.9137258871\n"
     ]
    }
   ],
   "source": [
    "# Variance and standard deviation\n",
    "\n",
    "print 'Variance of X:', np.var(X)\n",
    "print 'Standard deviation of X:', np.std(X)"
   ]
  },
  {
   "cell_type": "code",
   "execution_count": 5,
   "metadata": {},
   "outputs": [
    {
     "name": "stdout",
     "output_type": "stream",
     "text": [
      "Semivariance of X: 869.391877778\n",
      "Semideviation of X: 29.4854519683\n"
     ]
    }
   ],
   "source": [
    "# Semivariance and semideviation\n",
    "mu = np.mean(X)\n",
    "lows = [e for e in X if e <= mu]\n",
    "semivar = np.sum( (lows - mu) ** 2 ) / len(lows)\n",
    "\n",
    "print 'Semivariance of X:', semivar\n",
    "print 'Semideviation of X:', np.sqrt(semivar)"
   ]
  },
  {
   "cell_type": "code",
   "execution_count": 6,
   "metadata": {},
   "outputs": [
    {
     "name": "stdout",
     "output_type": "stream",
     "text": [
      "Target semivariance of X: 1425\n",
      "Target semideviation of X: 37.7491721764\n"
     ]
    }
   ],
   "source": [
    "# Target variance\n",
    "\n",
    "B = 60\n",
    "lows_B = [e for e in X if e <= B]\n",
    "semivar_B = sum(map(lambda x: (x - B)**2,lows_B))/len(lows_B)\n",
    "\n",
    "print 'Target semivariance of X:', semivar_B\n",
    "print 'Target semideviation of X:', np.sqrt(semivar_B)"
   ]
  },
  {
   "cell_type": "code",
   "execution_count": 7,
   "metadata": {},
   "outputs": [],
   "source": [
    "# AT&T Measures of Price Dispersion\n",
    "# 30 Day Rolling Variance\n",
    "att = get_pricing('T', fields='open_price', start_date='2016-01-01', end_date='2017-01-01')"
   ]
  },
  {
   "cell_type": "code",
   "execution_count": 10,
   "metadata": {},
   "outputs": [
    {
     "data": {
      "text/plain": [
       "2016-12-23 00:00:00+00:00    3.721008\n",
       "2016-12-27 00:00:00+00:00    3.746460\n",
       "2016-12-28 00:00:00+00:00    3.690225\n",
       "2016-12-29 00:00:00+00:00    3.414851\n",
       "2016-12-30 00:00:00+00:00    3.279793\n",
       "Freq: C, Name: Equity(6653 [T]), dtype: float64"
      ]
     },
     "execution_count": 10,
     "metadata": {},
     "output_type": "execute_result"
    }
   ],
   "source": [
    "# Rolling mean\n",
    "variance = att.rolling(window = 30).var()\n",
    "variance.tail()"
   ]
  },
  {
   "cell_type": "code",
   "execution_count": 11,
   "metadata": {},
   "outputs": [
    {
     "data": {
      "text/plain": [
       "2016-12-23 00:00:00+00:00    1.279664\n",
       "2016-12-27 00:00:00+00:00    1.190154\n",
       "2016-12-28 00:00:00+00:00    1.028875\n",
       "2016-12-29 00:00:00+00:00    0.897519\n",
       "2016-12-30 00:00:00+00:00    0.841290\n",
       "Freq: C, Name: Equity(6653 [T]), dtype: float64"
      ]
     },
     "execution_count": 11,
     "metadata": {},
     "output_type": "execute_result"
    }
   ],
   "source": [
    "# Rolling standard deviation\n",
    "std = att.rolling(window = 15).std()\n",
    "std.tail()"
   ]
  },
  {
   "cell_type": "code",
   "execution_count": 12,
   "metadata": {},
   "outputs": [
    {
     "name": "stdout",
     "output_type": "stream",
     "text": [
      "Portfolio variance:  50.1862438743\n"
     ]
    }
   ],
   "source": [
    "# Portfolio Variance\n",
    "asset1 = get_pricing('AAPL', fields='open_price', start_date='2016-01-01', end_date='2017-01-01')\n",
    "asset2 = get_pricing('XLF', fields='open_price', start_date='2016-01-01', end_date='2017-01-01')\n",
    "\n",
    "cov = np.cov(asset1, asset2)[0,1]\n",
    "\n",
    "w1 = 0.87\n",
    "w2 = 1 - w1\n",
    "\n",
    "v1 = np.var(asset1)\n",
    "v2 = np.var(asset2)\n",
    "\n",
    "pvariance = (w1**2)*v1+(w2**2)*v2+(2*w1*w2)*cov\n",
    "\n",
    "print 'Portfolio variance: ', pvariance"
   ]
  },
  {
   "cell_type": "code",
   "execution_count": null,
   "metadata": {},
   "outputs": [],
   "source": []
  }
 ],
 "metadata": {
  "kernelspec": {
   "display_name": "Python 2",
   "language": "python",
   "name": "python2"
  },
  "language_info": {
   "codemirror_mode": {
    "name": "ipython",
    "version": 2
   },
   "file_extension": ".py",
   "mimetype": "text/x-python",
   "name": "python",
   "nbconvert_exporter": "python",
   "pygments_lexer": "ipython2",
   "version": "2.7.12"
  }
 },
 "nbformat": 4,
 "nbformat_minor": 2
}